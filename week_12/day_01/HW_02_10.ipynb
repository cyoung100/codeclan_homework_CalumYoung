{
 "cells": [
  {
   "cell_type": "markdown",
   "id": "514af6c1",
   "metadata": {},
   "source": [
    "## Question 1"
   ]
  },
  {
   "cell_type": "code",
   "execution_count": null,
   "id": "6d0b88b9",
   "metadata": {},
   "outputs": [],
   "source": [
    "shopping = ('spam', 'ham', 'eggs', 'ham' )\n",
    "print(shopping)\n",
    "shopping[1]\n",
    "shopping[0:3]\n",
    "shopping[-1]"
   ]
  },
  {
   "cell_type": "markdown",
   "id": "c0668138",
   "metadata": {},
   "source": [
    "## Question 2"
   ]
  },
  {
   "cell_type": "code",
   "execution_count": null,
   "id": "57a31eea",
   "metadata": {},
   "outputs": [],
   "source": [
    "stops =  [\"Croy\", \"Cumbernauld\", \"Falkirk High\", \"Linlithgow\", \"Livingston\", \"Haymarket\"]\n",
    "stops.append(\"Edinburgh Waverley\")\n",
    "stops.index('Croy')\n",
    "stops.insert(3, 'Polmont')\n",
    "stops.remove('Haymarket')\n",
    "stops"
   ]
  },
  {
   "cell_type": "markdown",
   "id": "349bb9b9",
   "metadata": {},
   "source": [
    "## Question 3"
   ]
  },
  {
   "cell_type": "code",
   "execution_count": null,
   "id": "2340e62a",
   "metadata": {},
   "outputs": [],
   "source": [
    "person = {\n",
    "    \"name\": \"Steph\", \"age\": 31, \"Instructor\" : True\n",
    "}\n",
    "#1\n",
    "person.keys()\n",
    "person.values()\n",
    "person.items()\n",
    "\n",
    "#2\n",
    "person[\"name\"]\n",
    "\n",
    "#3\n",
    "person.update({'email' : 'steph@codeclan.com'})\n",
    "\n",
    "#4\n",
    "del person['Instructor']\n",
    "person"
   ]
  },
  {
   "cell_type": "markdown",
   "id": "6665469f",
   "metadata": {},
   "source": [
    "## Question 4"
   ]
  },
  {
   "cell_type": "code",
   "execution_count": null,
   "id": "a119a5c8",
   "metadata": {},
   "outputs": [],
   "source": [
    "numbers = [1, 6, 2, 2, 7, 1, 6, 13, 99, 7]\n",
    "\n",
    "#1\n",
    "even_int = []\n",
    "for i in numbers:\n",
    "    if i %2 == 0:\n",
    "        even_int.append(i)\n",
    "even_int   \n",
    "\n",
    "#2\n",
    "max_num = max(numbers)\n",
    "min_num = min(numbers)\n",
    "print(max_num - min_num)\n",
    "\n",
    "#3\n",
    "for i in range(len(numbers) - 1):\n",
    "    if numbers[i] == 2 and numbers[i + 1] == 2:\n",
    "        print(True)\n",
    "\n",
    "        "
   ]
  },
  {
   "cell_type": "code",
   "execution_count": null,
   "id": "f0161372",
   "metadata": {},
   "outputs": [],
   "source": [
    "#5\n",
    "total = 0\n",
    "ignore = False\n",
    "\n",
    "for i in numbers:\n",
    "    if i == 6:\n",
    "        ignore = True\n",
    "        \n",
    "    elif i == 7:\n",
    "        ignore = False\n",
    "        \n",
    "    elif ignore:\n",
    "        total += i\n",
    "print(total)"
   ]
  },
  {
   "cell_type": "markdown",
   "id": "40568559",
   "metadata": {},
   "source": [
    "## Question 5"
   ]
  },
  {
   "cell_type": "code",
   "execution_count": null,
   "id": "2f5cd754",
   "metadata": {},
   "outputs": [],
   "source": [
    "python_is_fun = True\n",
    "python_is_weird = True\n",
    "\n",
    "if python_is_fun or python_is_weird:\n",
    "    print(\"Woo Python!\")\n",
    "else: \n",
    "    print(\"Python is not for me!\")\n",
    "    \n",
    "python_is_fun\n",
    "python_is_weird"
   ]
  },
  {
   "cell_type": "markdown",
   "id": "ac7b7e38",
   "metadata": {},
   "source": [
    "## Question 6"
   ]
  },
  {
   "cell_type": "code",
   "execution_count": null,
   "id": "cbe8e4f6",
   "metadata": {},
   "outputs": [],
   "source": [
    "chickens = [\n",
    "  { \"name\": \"Margaret\", \"age\": 2, \"eggs\": 0 },\n",
    "  { \"name\": \"Hetty\", \"age\": 1, \"eggs\": 2 },\n",
    "  { \"name\": \"Henrietta\", \"age\": 3, \"eggs\": 1 },\n",
    "  { \"name\": \"Audrey\", \"age\": 2, \"eggs\": 0 },\n",
    "  { \"name\": \"Mabel\", \"age\": 5, \"eggs\": 1 },\n",
    "]\n",
    "\n",
    "\n",
    "def collect_eggs(chickens):\n",
    "    total_eggs = 0\n",
    "    \n",
    "    for chicken in chickens:\n",
    "        total_eggs += chicken[\"eggs\"]\n",
    "        chicken[\"eggs\"] = 0\n",
    "    \n",
    "    return f\"{total_eggs} eggs collected\"\n",
    "\n",
    "result = collect_eggs(chickens)\n",
    "print(result)"
   ]
  }
 ],
 "metadata": {
  "kernelspec": {
   "display_name": "Python 3 (ipykernel)",
   "language": "python",
   "name": "python3"
  },
  "language_info": {
   "codemirror_mode": {
    "name": "ipython",
    "version": 3
   },
   "file_extension": ".py",
   "mimetype": "text/x-python",
   "name": "python",
   "nbconvert_exporter": "python",
   "pygments_lexer": "ipython3",
   "version": "3.10.9"
  }
 },
 "nbformat": 4,
 "nbformat_minor": 5
}
